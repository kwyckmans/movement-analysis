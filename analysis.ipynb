{
 "cells": [
  {
   "cell_type": "markdown",
   "id": "active-berlin",
   "metadata": {},
   "source": [
    "# Calculating the distance covered by the larvae\n",
    "\n",
    "Some information required:\n",
    "* The x-axis was labeled and recorded as A to P\n",
    "* The y-axis went from top to bottom, and has values from 1 to 16"
   ]
  },
  {
   "cell_type": "markdown",
   "id": "cooked-contemporary",
   "metadata": {},
   "source": [
    "## Setting up the project\n",
    "\n",
    "We need to import some external libraries to process our data and generate our plots."
   ]
  },
  {
   "cell_type": "code",
   "execution_count": 155,
   "id": "third-nowhere",
   "metadata": {},
   "outputs": [],
   "source": [
    "import csv\n",
    "import math\n",
    "\n",
    "from collections import namedtuple\n",
    "from typing import List\n",
    "from functools import reduce\n",
    "\n",
    "import matplotlib\n",
    "import matplotlib.pyplot as plt\n",
    "from matplotlib.colors import BoundaryNorm\n",
    "from matplotlib.ticker import MaxNLocator\n",
    "import seaborn as sns\n",
    "\n",
    "# Allows us define a variable as being a Point(x, y), denoting a 2D point in space\n",
    "Point = namedtuple('Point', ['x', 'y'])"
   ]
  },
  {
   "cell_type": "markdown",
   "id": "approximate-string",
   "metadata": {},
   "source": [
    "## Loading and saving data\n",
    "\n",
    "We want to read in our data as a csv file, and after we've done the necessary processing we want to store it back as a csv file"
   ]
  },
  {
   "cell_type": "code",
   "execution_count": 83,
   "id": "revised-investing",
   "metadata": {},
   "outputs": [],
   "source": [
    "def load_data(file_name:str):\n",
    "    with open(file_name) as csvfile:\n",
    "        reader = csv.reader(csvfile)\n",
    "        next(reader)\n",
    "        for row in reader:\n",
    "            yield row\n",
    "            \n",
    "def write_data(file_name:str, data):\n",
    "    with open(file_name, 'w') as csvfile:\n",
    "        writer = csv.writer(csvfile)\n",
    "        writer.writerow([\"id\", \"distance\", \"nr of squares\",\"distance\", \"nr of squares\",\"distance\", \"nr of squares\"])\n",
    "        for entry in data:\n",
    "            print(entry)\n",
    "            writer.writerow(entry)"
   ]
  },
  {
   "cell_type": "markdown",
   "id": "assisted-recruitment",
   "metadata": {},
   "source": [
    "## Converting coordinate format\n",
    "\n",
    "It's a bit easier to reason about coordinates when they're in a regular (x, y) format. So we convert coordinates from, for example, A3, to (0, 2), with the upper left being (0,0) and the bottom right being (15,15). This also makes it easier to plot the data if we want to."
   ]
  },
  {
   "cell_type": "code",
   "execution_count": 156,
   "id": "beautiful-freeze",
   "metadata": {},
   "outputs": [],
   "source": [
    "\n",
    "\n",
    "def convert_to_point(coordinate: str) -> Point:\n",
    "    return Point(ord(coordinate[0].lower()) - ord('a'), int(coordinate[1:]) - 1)\n",
    "\n",
    "assert convert_to_point(\"A1\") == Point(0, 0)\n",
    "assert convert_to_point(\"P16\") == Point(15, 15)"
   ]
  },
  {
   "cell_type": "markdown",
   "id": "inappropriate-macedonia",
   "metadata": {},
   "source": [
    "## Calculating the distance between two points\n",
    "\n",
    "Using pythagoras"
   ]
  },
  {
   "cell_type": "code",
   "execution_count": 157,
   "id": "legal-region",
   "metadata": {},
   "outputs": [],
   "source": [
    "def distance(a: Point, b:Point) -> float:\n",
    "    return math.sqrt((b.x - a.x)**2 + (b.y - a.y)**2)\n",
    "\n",
    "a = Point(0, 0)\n",
    "b = Point(1, 0)\n",
    "assert distance(a, b) == 1\n",
    "\n",
    "b = Point(0, 1)\n",
    "assert distance(a, b) == 1\n",
    "\n",
    "b = Point(1, 1)\n",
    "assert distance(a, b) == math.sqrt(2) #pythagoras: a^2 + b^2 = c^2"
   ]
  },
  {
   "cell_type": "markdown",
   "id": "american-closing",
   "metadata": {},
   "source": [
    "## Process our raw data"
   ]
  },
  {
   "cell_type": "code",
   "execution_count": 92,
   "id": "silent-recognition",
   "metadata": {},
   "outputs": [],
   "source": [
    "def process_data(individuals):\n",
    "    results = {}\n",
    "    \n",
    "    for individual in individuals:\n",
    "        id = individual[0]\n",
    "        coordinates = individual[1:]\n",
    "        \n",
    "        result = process_individual(coordinates)\n",
    "        results[id] = results.get(id, []) + [result[0], result[1]]\n",
    "        \n",
    "    return results\n",
    "\n",
    "def process_individual(coordinates: List):\n",
    "    coordinates = list(map(convert_to_point, coordinates))\n",
    "    unique_coordinates = set(coordinates)\n",
    "    total_distance = 0\n",
    "    for i in range(1, len(coordinates)):\n",
    "        total_distance += distance(coordinates[i-1], coordinates[i])\n",
    "    \n",
    "    return total_distance, len(unique_coordinates)\n",
    "#     print(f\"Individual {id}: total distance: {total_distance}, squares visited: {len(unique_coordinates)}\")"
   ]
  },
  {
   "cell_type": "code",
   "execution_count": 158,
   "id": "western-relevance",
   "metadata": {},
   "outputs": [
    {
     "name": "stdout",
     "output_type": "stream",
     "text": [
      "['1', 154.0177240697142, 17, 154.4442555481387, 16]\n",
      "['2', 159.31641299423708, 16]\n",
      "['3', 121.47049719132909, 15]\n",
      "['4', 165.95180493301166, 14]\n",
      "['5', 131.50605374602407, 15]\n"
     ]
    }
   ],
   "source": [
    "data = load_data(\"data.csv\")\n",
    "results = process_data(data)\n",
    "\n",
    "formatted_results = []\n",
    "for key in results:\n",
    "    formatted_results.append([key] + results[key])\n",
    "    \n",
    "write_data(\"results.csv\", formatted_results)"
   ]
  },
  {
   "cell_type": "markdown",
   "id": "critical-discount",
   "metadata": {},
   "source": [
    "## Generating a heatmap of locations"
   ]
  },
  {
   "cell_type": "code",
   "execution_count": 159,
   "id": "introductory-burton",
   "metadata": {},
   "outputs": [],
   "source": [
    "def generate_heatmap(individuals) -> List[List[int]]:\n",
    "    heatmap_data = [ # TODO: pre-popilate this list in a better way\n",
    "        [0, 0, 0, 0, 0, 0, 0, 0, 0, 0, 0, 0, 0, 0, 0, 0],\n",
    "        [0, 0, 0, 0, 0, 0, 0, 0, 0, 0, 0, 0, 0, 0, 0, 0],\n",
    "        [0, 0, 0, 0, 0, 0, 0, 0, 0, 0, 0, 0, 0, 0, 0, 0],\n",
    "        [0, 0, 0, 0, 0, 0, 0, 0, 0, 0, 0, 0, 0, 0, 0, 0],\n",
    "        [0, 0, 0, 0, 0, 0, 0, 0, 0, 0, 0, 0, 0, 0, 0, 0],\n",
    "        [0, 0, 0, 0, 0, 0, 0, 0, 0, 0, 0, 0, 0, 0, 0, 0],\n",
    "        [0, 0, 0, 0, 0, 0, 0, 0, 0, 0, 0, 0, 0, 0, 0, 0],\n",
    "        [0, 0, 0, 0, 0, 0, 0, 0, 0, 0, 0, 0, 0, 0, 0, 0],\n",
    "        [0, 0, 0, 0, 0, 0, 0, 0, 0, 0, 0, 0, 0, 0, 0, 0],\n",
    "        [0, 0, 0, 0, 0, 0, 0, 0, 0, 0, 0, 0, 0, 0, 0, 0],\n",
    "        [0, 0, 0, 0, 0, 0, 0, 0, 0, 0, 0, 0, 0, 0, 0, 0],\n",
    "        [0, 0, 0, 0, 0, 0, 0, 0, 0, 0, 0, 0, 0, 0, 0, 0],\n",
    "        [0, 0, 0, 0, 0, 0, 0, 0, 0, 0, 0, 0, 0, 0, 0, 0],\n",
    "        [0, 0, 0, 0, 0, 0, 0, 0, 0, 0, 0, 0, 0, 0, 0, 0],\n",
    "        [0, 0, 0, 0, 0, 0, 0, 0, 0, 0, 0, 0, 0, 0, 0, 0],\n",
    "        [0, 0, 0, 0, 0, 0, 0, 0, 0, 0, 0, 0, 0, 0, 0, 0]\n",
    "    ]\n",
    "\n",
    "    for individual in individuals:\n",
    "        coordinates = list(map(convert_to_point, individual[1:]))\n",
    "        for coordinate in coordinates:\n",
    "            heatmap_data[coordinate.y][coordinate.x] = heatmap_data[coordinate.y][coordinate.x] + 1\n",
    "\n",
    "    return heatmap_data\n",
    "    "
   ]
  },
  {
   "cell_type": "code",
   "execution_count": 160,
   "id": "sticky-attention",
   "metadata": {},
   "outputs": [
    {
     "data": {
      "image/png": "[encoded data removed]",
      "text/plain": [
       "<Figure size 432x288 with 2 Axes>"
      ]
     },
     "metadata": {},
     "output_type": "display_data"
    }
   ],
   "source": [
    "Z = [ # to be used to debug the generated heatmap\n",
    "    [1, 0, 0, 0, 0, 0, 0, 0, 0, 0, 0, 0, 0, 0, 0, 0],\n",
    "    [0, 0, 0, 0, 0, 0, 0, 0, 0, 0, 0, 0, 0, 0, 0, 0],\n",
    "    [1, 0, 0, 0, 0, 0, 0, 0, 0, 0, 0, 0, 0, 0, 0, 0],\n",
    "    [1, 0, 0, 0, 0, 0, 0, 0, 0, 0, 0, 0, 0, 0, 0, 0],\n",
    "    [1, 0, 0, 0, 0, 0, 0, 0, 0, 0, 0, 0, 0, 0, 0, 0],\n",
    "    [1, 0, 0, 0, 0, 0, 0, 0, 0, 0, 0, 0, 0, 0, 0, 0],\n",
    "    [1, 0, 0, 0, 0, 0, 0, 0, 0, 0, 0, 0, 0, 0, 0, 0],\n",
    "    [1, 0, 0, 0, 0, 0, 0, 0, 0, 0, 0, 0, 0, 0, 0, 0],\n",
    "    [1, 0, 0, 0, 0, 0, 0, 0, 0, 0, 0, 0, 0, 0, 0, 0],\n",
    "    [1, 0, 0, 0, 0, 0, 0, 0, 0, 0, 0, 0, 0, 0, 0, 0],\n",
    "    [1, 0, 0, 0, 0, 0, 0, 0, 0, 0, 0, 0, 0, 0, 0, 0],\n",
    "    [1, 0, 0, 0, 0, 0, 0, 0, 0, 0, 0, 0, 0, 0, 0, 0],\n",
    "    [1, 0, 0, 0, 0, 0, 0, 0, 0, 0, 0, 0, 0, 0, 0, 0],\n",
    "    [1, 0, 0, 0, 0, 0, 0, 0, 0, 0, 0, 0, 0, 0, 0, 0],\n",
    "    [1, 0, 0, 0, 0, 0, 0, 0, 0, 0, 0, 0, 0, 0, 0, 0],\n",
    "    [1, 0, 0, 0, 0, 0, 0, 0, 0, 0, 0, 0, 0, 0, 0, 0]\n",
    "]\n",
    "\n",
    "sns.set_theme()\n",
    "\n",
    "data = load_data(\"data.csv\")\n",
    "\n",
    "heatmap = generate_heatmap(data)\n",
    "\n",
    "ax = sns.heatmap(heatmap, cmap=\"Blues\")\n",
    "ax.xaxis.tick_top()\n"
   ]
  }
 ],
 "metadata": {
  "kernelspec": {
   "display_name": "Python 3",
   "language": "python",
   "name": "python3"
  },
  "language_info": {
   "codemirror_mode": {
    "name": "ipython",
    "version": 3
   },
   "file_extension": ".py",
   "mimetype": "text/x-python",
   "name": "python",
   "nbconvert_exporter": "python",
   "pygments_lexer": "ipython3",
   "version": "3.8.2"
  }
 },
 "nbformat": 4,
 "nbformat_minor": 5
}
