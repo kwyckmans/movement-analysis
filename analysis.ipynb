{
 "cells": [
  {
   "cell_type": "markdown",
   "id": "superb-advocate",
   "metadata": {},
   "source": [
    "# Calculating the distance covered by our fishies"
   ]
  },
  {
   "cell_type": "code",
   "execution_count": 125,
   "id": "ceramic-assignment",
   "metadata": {},
   "outputs": [],
   "source": [
    "import csv\n",
    "import math\n",
    "\n",
    "from collections import namedtuple\n",
    "from typing import List\n",
    "from functools import reduce\n",
    "\n",
    "Point = namedtuple('Point', ['x', 'y'])\n",
    "\n",
    "# A -> P / X axis\n",
    "# 1 -> 16 / Y axis, from top to bottom"
   ]
  },
  {
   "cell_type": "code",
   "execution_count": 130,
   "id": "revolutionary-charles",
   "metadata": {},
   "outputs": [],
   "source": [
    "def load_data(file_name:str):\n",
    "    with open(file_name) as csvfile:\n",
    "        reader = csv.reader(csvfile)\n",
    "        next(reader)\n",
    "        for row in reader:\n",
    "            yield row"
   ]
  },
  {
   "cell_type": "markdown",
   "id": "prompt-indication",
   "metadata": {},
   "source": [
    "## Converting coordinate format\n",
    "\n",
    "It's a bit easier to reason about coordinates when they're in a regular (x, y) format. So we convert coordinates from, for example, A3, to (0, 2), with the upper left being (0,0) and the bottom right being (15,15). This also makes it easier to plot the data if we want to."
   ]
  },
  {
   "cell_type": "code",
   "execution_count": 129,
   "id": "internal-artwork",
   "metadata": {},
   "outputs": [],
   "source": [
    "def distance(a: Point, b:Point) -> float:\n",
    "    return math.sqrt((b.x - a.x)**2 + (b.y - a.y)**2)\n",
    "\n",
    "def convert_to_point(coordinate: str) -> Point:\n",
    "    return Point(ord(coordinate[0].lower()) - ord('a'), int(coordinate[1:]) - 1)"
   ]
  },
  {
   "cell_type": "code",
   "execution_count": 127,
   "id": "subjective-carrier",
   "metadata": {},
   "outputs": [],
   "source": [
    "def process_individual(id: int, coordinates: List):\n",
    "    coordinates = list(map(convert_to_point, coordinates))\n",
    "    unique_coordinates = set(coordinates)\n",
    "    total_distance = 0\n",
    "    for i in range(1, len(coordinates)):\n",
    "        print(coordinates[i-1], coordinates[i])\n",
    "        total_distance += distance(coordinates[i-1], coordinates[i])\n",
    "    \n",
    "    print(f\"Total distance: {total_distance}, squares visited: {len(unique_coordinates)}\")"
   ]
  },
  {
   "cell_type": "code",
   "execution_count": 128,
   "id": "abstract-needle",
   "metadata": {},
   "outputs": [
    {
     "name": "stdout",
     "output_type": "stream",
     "text": [
      "Point(x=13, y=12) Point(x=4, y=12)\n",
      "Point(x=4, y=12) Point(x=0, y=10)\n",
      "Point(x=0, y=10) Point(x=3, y=3)\n",
      "Point(x=3, y=3) Point(x=11, y=14)\n",
      "Point(x=11, y=14) Point(x=12, y=13)\n",
      "Point(x=12, y=13) Point(x=12, y=13)\n",
      "Point(x=12, y=13) Point(x=12, y=13)\n",
      "Point(x=12, y=13) Point(x=6, y=0)\n",
      "Point(x=6, y=0) Point(x=15, y=11)\n",
      "Point(x=15, y=11) Point(x=2, y=12)\n",
      "Point(x=2, y=12) Point(x=12, y=9)\n",
      "Point(x=12, y=9) Point(x=9, y=15)\n",
      "Point(x=9, y=15) Point(x=5, y=15)\n",
      "Point(x=5, y=15) Point(x=1, y=3)\n",
      "Point(x=1, y=3) Point(x=15, y=9)\n",
      "Point(x=15, y=9) Point(x=14, y=11)\n",
      "Point(x=14, y=11) Point(x=6, y=2)\n",
      "Point(x=6, y=2) Point(x=7, y=15)\n",
      "Total distance: 154.0177240697142, squares visited: 17\n",
      " - - - - - - \n",
      "Point(x=10, y=14) Point(x=5, y=15)\n",
      "Point(x=5, y=15) Point(x=14, y=0)\n",
      "Point(x=14, y=0) Point(x=3, y=10)\n",
      "Point(x=3, y=10) Point(x=8, y=15)\n",
      "Point(x=8, y=15) Point(x=8, y=0)\n",
      "Point(x=8, y=0) Point(x=9, y=0)\n",
      "Point(x=9, y=0) Point(x=11, y=14)\n",
      "Point(x=11, y=14) Point(x=0, y=10)\n",
      "Point(x=0, y=10) Point(x=9, y=8)\n",
      "Point(x=9, y=8) Point(x=11, y=14)\n",
      "Point(x=11, y=14) Point(x=7, y=13)\n",
      "Point(x=7, y=13) Point(x=7, y=0)\n",
      "Point(x=7, y=0) Point(x=1, y=4)\n",
      "Point(x=1, y=4) Point(x=1, y=4)\n",
      "Point(x=1, y=4) Point(x=13, y=4)\n",
      "Point(x=13, y=4) Point(x=1, y=4)\n",
      "Point(x=1, y=4) Point(x=2, y=12)\n",
      "Point(x=2, y=12) Point(x=2, y=13)\n",
      "Total distance: 159.31641299423708, squares visited: 16\n",
      " - - - - - - \n",
      "Point(x=0, y=7) Point(x=1, y=3)\n",
      "Point(x=1, y=3) Point(x=9, y=15)\n",
      "Point(x=9, y=15) Point(x=14, y=7)\n",
      "Point(x=14, y=7) Point(x=13, y=12)\n",
      "Point(x=13, y=12) Point(x=2, y=13)\n",
      "Point(x=2, y=13) Point(x=10, y=14)\n",
      "Point(x=10, y=14) Point(x=12, y=13)\n",
      "Point(x=12, y=13) Point(x=4, y=12)\n",
      "Point(x=4, y=12) Point(x=0, y=7)\n",
      "Point(x=0, y=7) Point(x=0, y=7)\n",
      "Point(x=0, y=7) Point(x=7, y=13)\n",
      "Point(x=7, y=13) Point(x=2, y=14)\n",
      "Point(x=2, y=14) Point(x=3, y=14)\n",
      "Point(x=3, y=14) Point(x=2, y=14)\n",
      "Point(x=2, y=14) Point(x=13, y=3)\n",
      "Point(x=13, y=3) Point(x=7, y=0)\n",
      "Point(x=7, y=0) Point(x=8, y=0)\n",
      "Point(x=8, y=0) Point(x=13, y=12)\n",
      "Total distance: 121.47049719132909, squares visited: 15\n",
      " - - - - - - \n",
      "Point(x=1, y=5) Point(x=15, y=9)\n",
      "Point(x=15, y=9) Point(x=5, y=3)\n",
      "Point(x=5, y=3) Point(x=12, y=13)\n",
      "Point(x=12, y=13) Point(x=2, y=12)\n",
      "Point(x=2, y=12) Point(x=0, y=10)\n",
      "Point(x=0, y=10) Point(x=14, y=12)\n",
      "Point(x=14, y=12) Point(x=12, y=13)\n",
      "Point(x=12, y=13) Point(x=0, y=10)\n",
      "Point(x=0, y=10) Point(x=14, y=7)\n",
      "Point(x=14, y=7) Point(x=1, y=2)\n",
      "Point(x=1, y=2) Point(x=7, y=0)\n",
      "Point(x=7, y=0) Point(x=1, y=4)\n",
      "Point(x=1, y=4) Point(x=10, y=4)\n",
      "Point(x=10, y=4) Point(x=11, y=14)\n",
      "Point(x=11, y=14) Point(x=11, y=14)\n",
      "Point(x=11, y=14) Point(x=12, y=13)\n",
      "Point(x=12, y=13) Point(x=2, y=12)\n",
      "Point(x=2, y=12) Point(x=15, y=8)\n",
      "Total distance: 165.95180493301166, squares visited: 14\n",
      " - - - - - - \n",
      "Point(x=15, y=8) Point(x=14, y=11)\n",
      "Point(x=14, y=11) Point(x=13, y=12)\n",
      "Point(x=13, y=12) Point(x=13, y=12)\n",
      "Point(x=13, y=12) Point(x=4, y=12)\n",
      "Point(x=4, y=12) Point(x=0, y=10)\n",
      "Point(x=0, y=10) Point(x=3, y=3)\n",
      "Point(x=3, y=3) Point(x=12, y=13)\n",
      "Point(x=12, y=13) Point(x=3, y=3)\n",
      "Point(x=3, y=3) Point(x=8, y=15)\n",
      "Point(x=8, y=15) Point(x=10, y=1)\n",
      "Point(x=10, y=1) Point(x=1, y=4)\n",
      "Point(x=1, y=4) Point(x=13, y=4)\n",
      "Point(x=13, y=4) Point(x=13, y=4)\n",
      "Point(x=13, y=4) Point(x=15, y=7)\n",
      "Point(x=15, y=7) Point(x=8, y=0)\n",
      "Point(x=8, y=0) Point(x=6, y=2)\n",
      "Point(x=6, y=2) Point(x=10, y=1)\n",
      "Point(x=10, y=1) Point(x=1, y=5)\n",
      "Total distance: 131.50605374602407, squares visited: 15\n",
      " - - - - - - \n"
     ]
    }
   ],
   "source": [
    "for individual in load_data(\"data.csv\"):\n",
    "    process_individual(individual[0], individual[1:])\n",
    "    print(\" - - - - - - \")"
   ]
  }
 ],
 "metadata": {
  "kernelspec": {
   "display_name": "Python 3",
   "language": "python",
   "name": "python3"
  },
  "language_info": {
   "codemirror_mode": {
    "name": "ipython",
    "version": 3
   },
   "file_extension": ".py",
   "mimetype": "text/x-python",
   "name": "python",
   "nbconvert_exporter": "python",
   "pygments_lexer": "ipython3",
   "version": "3.8.2"
  }
 },
 "nbformat": 4,
 "nbformat_minor": 5
}
