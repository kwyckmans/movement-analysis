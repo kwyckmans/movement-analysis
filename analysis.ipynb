{
 "cells": [
  {
   "cell_type": "markdown",
   "id": "adverse-budapest",
   "metadata": {},
   "source": [
    "# Calculating the distance covered by the larvae\n",
    "\n",
    "Some information required:\n",
    "* The x-axis was labeled and recorded as A to P\n",
    "* The y-axis went from top to bottom, and has values from 1 to 16"
   ]
  },
  {
   "cell_type": "markdown",
   "id": "continuous-facial",
   "metadata": {},
   "source": [
    "## Setting up the project\n",
    "\n",
    "We need to import some external libraries to process our data and generate our plots."
   ]
  },
  {
   "cell_type": "code",
   "execution_count": 1,
   "id": "powered-constitutional",
   "metadata": {},
   "outputs": [],
   "source": [
    "import csv\n",
    "import math\n",
    "\n",
    "from collections import namedtuple\n",
    "from typing import List\n",
    "from functools import reduce\n",
    "\n",
    "import matplotlib\n",
    "import matplotlib.pyplot as plt\n",
    "from matplotlib.colors import BoundaryNorm\n",
    "from matplotlib.ticker import MaxNLocator\n",
    "import seaborn as sns\n",
    "\n",
    "# Allows us define a variable as being a Point(x, y), denoting a 2D point in space\n",
    "Point = namedtuple('Point', ['x', 'y'])"
   ]
  },
  {
   "cell_type": "markdown",
   "id": "agreed-anthropology",
   "metadata": {},
   "source": [
    "## Loading and saving data\n",
    "\n",
    "We want to read in our data as a csv file, and after we've done the necessary processing we want to store it back as a csv file"
   ]
  },
  {
   "cell_type": "code",
   "execution_count": 136,
   "id": "human-parts",
   "metadata": {},
   "outputs": [],
   "source": [
    "NR_OF_SAMPLE_POINTS = 19\n",
    "NR_OF_MEASUREMENTS = 3\n",
    "\n",
    "def load_data(file_name:str):\n",
    "    with open(file_name) as csvfile:\n",
    "        reader = csv.reader(csvfile)\n",
    "        next(reader)\n",
    "        total = 0\n",
    "        skipped = 0\n",
    "        for row in reader:\n",
    "            total +=1\n",
    "            if '' in row:\n",
    "#                 print(f\"Empty row: {row}\")\n",
    "                skipped += 1\n",
    "                continue\n",
    "            \n",
    "            larva_id = row[0]\n",
    "#             print(f\"row length: {len(row)}, {row}\")\n",
    "            \n",
    "#             print([larva_id] + row[1:20])\n",
    "            yield [larva_id] + row[1:20]\n",
    "            \n",
    "            if len(row) > 20:\n",
    "#                 print([larva_id] + row[20:39])\n",
    "                yield [larva_id] + row[20:39]\n",
    "                \n",
    "            if len(row) > 40:\n",
    "#                 print([larva_id] + row[39:58])\n",
    "                yield [larva_id] + row[39:58]\n",
    "\n",
    "    print(f\"Loaded a total of {total} rows, skipped {skipped} rows\")\n",
    "            \n",
    "def write_data(file_name:str, data):\n",
    "    with open(file_name, 'w') as csvfile:\n",
    "        writer = csv.writer(csvfile)\n",
    "        writer.writerow([\"id\", \"distance\", \"nr of squares\",\"distance\", \"nr of squares\",\"distance\", \"nr of squares\"])\n",
    "        for entry in data:\n",
    "            print(entry)\n",
    "            writer.writerow(entry)"
   ]
  },
  {
   "cell_type": "markdown",
   "id": "palestinian-illness",
   "metadata": {},
   "source": [
    "## Converting coordinate format\n",
    "\n",
    "It's a bit easier to reason about coordinates when they're in a regular (x, y) format. So we convert coordinates from, for example, A3, to (0, 2), with the upper left being (0,0) and the bottom right being (15,15). This also makes it easier to plot the data if we want to."
   ]
  },
  {
   "cell_type": "code",
   "execution_count": 3,
   "id": "drawn-freeware",
   "metadata": {},
   "outputs": [],
   "source": [
    "def convert_to_point(coordinate: str) -> Point:\n",
    "    return Point(ord(coordinate[0].lower()) - ord('a'), int(coordinate[1:]) - 1)\n",
    "\n",
    "assert convert_to_point(\"A1\") == Point(0, 0)\n",
    "assert convert_to_point(\"P16\") == Point(15, 15)"
   ]
  },
  {
   "cell_type": "markdown",
   "id": "exotic-sample",
   "metadata": {},
   "source": [
    "## Calculating the distance between two points\n",
    "\n",
    "Using pythagoras"
   ]
  },
  {
   "cell_type": "code",
   "execution_count": 4,
   "id": "precise-worse",
   "metadata": {},
   "outputs": [],
   "source": [
    "def distance(a: Point, b:Point) -> float:\n",
    "    return math.sqrt((b.x - a.x)**2 + (b.y - a.y)**2)\n",
    "\n",
    "a = Point(0, 0)\n",
    "b = Point(1, 0)\n",
    "assert distance(a, b) == 1\n",
    "\n",
    "b = Point(0, 1)\n",
    "assert distance(a, b) == 1\n",
    "\n",
    "b = Point(1, 1)\n",
    "assert distance(a, b) == math.sqrt(2) #pythagoras: a^2 + b^2 = c^2"
   ]
  },
  {
   "cell_type": "markdown",
   "id": "noble-compromise",
   "metadata": {},
   "source": [
    "## Process our raw data"
   ]
  },
  {
   "cell_type": "code",
   "execution_count": 67,
   "id": "express-blanket",
   "metadata": {},
   "outputs": [],
   "source": [
    "def process_data(individuals):\n",
    "    results = {}\n",
    "    \n",
    "    for individual in individuals:\n",
    "        id = individual[0]\n",
    "        coordinates = individual[1:]\n",
    "        \n",
    "        result = process_individual(coordinates)\n",
    "        results[id] = results.get(id, []) + [result[0], result[1]]\n",
    "        \n",
    "    return results\n",
    "\n",
    "def process_individual(coordinates: List):\n",
    "    coordinates = list(map(convert_to_point, coordinates))\n",
    "    unique_coordinates = set(coordinates)\n",
    "    total_distance = 0\n",
    "    for i in range(1, len(coordinates)):\n",
    "        total_distance += distance(coordinates[i-1], coordinates[i])\n",
    "    \n",
    "    return total_distance, len(unique_coordinates)\n",
    "#     print(f\"Individual {id}: total distance: {total_distance}, squares visited: {len(unique_coordinates)}\")"
   ]
  },
  {
   "cell_type": "code",
   "execution_count": 148,
   "id": "suitable-exception",
   "metadata": {},
   "outputs": [
    {
     "name": "stdout",
     "output_type": "stream",
     "text": [
      "Loaded a total of 104 rows, skipped 27 rows\n",
      "[1, 11.838393244542416, 4, 49.70110262113829, 7, 50.35503682799604, 7]\n",
      "[2, 30.0, 3, 123.41193805599048, 12, 112.61697998915356, 12]\n",
      "[3, 5.650281539872885, 4, 81.40292684792065, 8, 163.1454553392119, 16]\n",
      "[4, '', '', '', '', '', '']\n",
      "[5, 5.47213595499958, 3, 82.96410498906609, 13, 118.71002883385053, 12]\n",
      "[6, 10.23606797749979, 3, 83.37944475829148, 12, 105.59900181858083, 12]\n",
      "[7, 0.0, 1, 184.11139343413134, 18, 162.21529650507733, 19]\n",
      "[8, 18.558873956203158, 3, 8.576491222541474, 4, 106.99583192001604, 10]\n",
      "[9, 0.0, 1, 168.81696800666475, 17, 160.70865697653397, 16]\n",
      "[10, 5.06449510224598, 3, 119.85975948687918, 15, 166.80504997657144, 17]\n",
      "[11, 7.0, 2, 189.75668435776754, 15, 127.53416855992481, 14]\n",
      "[12, '', '', '', '', '', '']\n",
      "[13, 4.23606797749979, 3, 29.08889358515468, 7, 187.40542819561372, 16]\n",
      "[14, 21.307766542143632, 5, 133.26297555848623, 16, 134.50380334153724, 15]\n",
      "[15, '', '', '', '', '', '']\n",
      "[16, 1.4142135623730951, 2, 173.47112556771998, 13, 175.83447469272255, 15]\n",
      "[17, 12.899494936611665, 4, 106.94137885676354, 12, 177.51207152289342, 17]\n",
      "[18, '', '', '', '', '', '']\n",
      "[19, '', '', '', '', '', '']\n",
      "[20, 17.598780830477672, 6, 121.41832854120548, 16, 112.66272288192238, 13]\n",
      "[21, '', '', '', '', '', '']\n",
      "[22, '', '', '', '', '', '']\n",
      "[23, 3.6502815398728847, 3, 83.30059998473699, 15, 134.45065066150667, 12]\n",
      "[24, 16.42220510185596, 4, 79.1456646892714, 8, 159.71331820484275, 15]\n",
      "[25, 1.0, 2, 150.19541513944318, 15, 127.31434497092121, 17]\n",
      "[26, 5.242640687119285, 3, 77.92726326315343, 8, 133.24117435105217, 12]\n",
      "[27, '', '', '', '', '', '']\n",
      "[28, 9.219544457292887, 2, 111.64702143462266, 13, 138.81365358364275, 17]\n",
      "[29, 8.0, 2, 59.47777841152556, 7, 153.17321620479, 15]\n",
      "[30, 8.23606797749979, 4, 51.00710634459888, 10, 127.01340555427826, 13]\n",
      "[31, 17.194173437483137, 5, 47.497513431784775, 10, 94.55147221906344, 10]\n",
      "[32, 0.0, 1, 149.12402113101646, 14, 85.46713052651538, 10]\n",
      "[33, '', '', '', '', '', '']\n",
      "[34, 10.469598700510513, 3, 41.50206282727454, 6, 143.74300157993633, 15]\n",
      "[35, 0.0, 1, 74.54174649660574, 7, 97.53337811090813, 12]\n",
      "[36, '', '', '', '', '', '']\n",
      "[37, 1.0, 2, 109.87798162778692, 18, 16.764091950405117, 6]\n",
      "[38, '', '', '', '', '', '']\n",
      "[39, '', '', '', '', '', '']\n",
      "[40, 7.47213595499958, 5, 102.31357669782011, 10, 98.33675913813676, 12]\n",
      "[41, 0.0, 1, 147.9619838336127, 17, 156.15501938539407, 18]\n",
      "[42, '', '', '', '', '', '']\n",
      "[43, 6.576491222541475, 5, 109.9654162855444, 12, 119.45507132822817, 16]\n",
      "[44, 1.0, 2, 106.33353819063468, 14, 142.18607656440605, 16]\n",
      "[45, 16.43410700468536, 7, 114.56148513201063, 9, 149.42308105973967, 14]\n",
      "[46, '', '', '', '', '', '']\n",
      "[47, 2.23606797749979, 2, 58.30636186132942, 8, 133.79114547613668, 15]\n",
      "[48, '', '', '', '', '', '']\n",
      "[49, 1.0, 2, 110.26561020920781, 14, 147.75046263505757, 17]\n",
      "[50, 7.656854249492381, 4, 84.67295742151474, 8, 32.97992402003359, 9]\n",
      "[51, 1.0, 2, 94.50569244647572, 9, 108.80646247343854, 14]\n",
      "[52, 0.0, 1, 94.18735432571177, 15, 110.34697801189319, 16]\n",
      "[53, 7.16227766016838, 6, 160.19931120809375, 17, 134.48007505749302, 16]\n",
      "[54, '', '', '', '', '', '']\n",
      "[55, 34.3975835020983, 5, 118.74737728973909, 14, 165.5049148163626, 15]\n",
      "[56, '', '', '', '', '', '']\n",
      "[57, 0.0, 1, 88.86829279670482, 11, 119.88386817641812, 13]\n",
      "[58, 13.019764837837085, 7, 54.649180838005826, 11, 152.68952501808013, 16]\n",
      "[59, 3.605551275463989, 2, 155.5800083144421, 12, 111.47464277175473, 15]\n",
      "[60, '', '', '', '', '', '']\n",
      "[61, 2.8284271247461903, 2, 96.2192666246739, 16, 190.76896445674168, 16]\n",
      "[62, 1.4142135623730951, 2, 130.32657173024984, 16, 141.33142173994074, 15]\n",
      "[63, '', '', '', '', '', '']\n",
      "[64, '', '', '', '', '', '']\n",
      "[65, 12.84161925296378, 6, 95.01305562547633, 11, 87.54100402884069, 9]\n",
      "[66, 65.06455337684152, 13, 134.9417685851527, 16, 179.0233463323679, 16]\n",
      "[67, 99.77925877223194, 13, 59.63700055487446, 11, 168.37188086995033, 16]\n",
      "[68, '', '', '', '', '', '']\n",
      "[69, 25.361554160212005, 7, 164.0323569465506, 17, 18.275597653173957, 7]\n",
      "[70, 22.621298708284264, 4, 152.07525149543676, 12, 186.37111879748898, 17]\n",
      "[71, '', '', '', '', '', '']\n",
      "[72, 41.06461961885621, 10, 120.71239365807577, 16, 126.47946662868044, 15]\n",
      "[73, 0.0, 1, 114.13187595761302, 13, 87.15240181825352, 13]\n",
      "[74, 152.80785679798245, 18, 146.74918845055726, 15, 110.76337197151494, 16]\n",
      "[75, 73.46333024641122, 16, 159.67118235616346, 17, 179.39073593521329, 18]\n",
      "[76, 27.270828753164107, 8, 134.5909768696355, 16, 176.12770631424883, 18]\n",
      "[77, 71.64681154116042, 11, 113.36523422919113, 14, 158.522149562849, 15]\n",
      "[78, 52.98065463413688, 11, 117.64631627539715, 18, 161.79887495478997, 17]\n",
      "[79, 18.552643560666496, 3, 139.87271525470604, 14, 154.60106683899065, 17]\n",
      "[80, 68.62575593730368, 11, 151.490055012626, 16, 176.91557478736863, 16]\n",
      "[81, '', '', '', '', '', '']\n",
      "[82, '', '', '', '', '', '']\n",
      "[83, 92.12496234982241, 14, 111.18598172002868, 15, 172.9747716255535, 15]\n",
      "[84, '', '', '', '', '', '']\n",
      "[85, '', '', '', '', '', '']\n",
      "[86, '', '', '', '', '', '']\n",
      "[87, 125.53934165157169, 15, 140.60809695393465, 15, 155.15991342017776, 15]\n",
      "[88, 23.865396631211826, 7, 104.78371513874515, 10, 169.52335629686843, 16]\n",
      "[89, 23.233345472033857, 13, 148.9007877713401, 14, 183.1852855314499, 14]\n",
      "[90, 31.964194902232524, 8, 111.53470491089794, 16, 121.33735175619024, 16]\n",
      "[91, 99.12378732966273, 11, 152.22819961401072, 16, 222.4310158077259, 16]\n",
      "[92, 41.596555890442566, 11, 137.018163718008, 15, 166.74265276036863, 19]\n",
      "[93, 40.30328877988865, 11, 87.99735988175179, 9, 72.85297445588589, 13]\n",
      "[94, 6.650281539872885, 5, 33.69581093195656, 7, 148.3649499028838, 17]\n",
      "[95, 27.447509940746006, 5, 113.63690672877806, 12, 127.26887852079744, 13]\n",
      "[96, 48.197809332304104, 13, 163.63389615355084, 16, 70.92375451879344, 12]\n",
      "[97, 37.35459206770695, 11, 62.957282979730735, 9, 121.84176560641637, 11]\n",
      "[98, 16.733044070171104, 8, 128.42934984401833, 17, 163.1500138260398, 18]\n",
      "[99, 12.300563079745771, 8, 173.93222056544775, 13, 72.46163583118125, 9]\n",
      "[100, 40.130789066374426, 7, 97.46898518292127, 8, 123.96128908549667, 15]\n",
      "[101, 4.414213562373095, 3, 112.10016397257775, 13, 140.20125885388592, 17]\n",
      "[102, 93.2283146347549, 14, 106.30607483759246, 15, 156.51077337392078, 18]\n",
      "[103, 9.255832815336873, 6, 197.86947478825786, 17, 117.38533363036694, 17]\n",
      "[104, 68.03291819503633, 14, 42.32811073330329, 6, 83.10963659646524, 11]\n"
     ]
    }
   ],
   "source": [
    "data = load_data(\"data-thesis-final.csv\")\n",
    "results = process_data(data)\n",
    "\n",
    "formatted_results = []\n",
    "\n",
    "for i in range(1, 105):\n",
    "    if str(i) in results:\n",
    "        formatted_results.append([i] + results[str(i)])\n",
    "    else:\n",
    "        formatted_results.append([i] + ['','','','','',''])\n",
    "\n",
    "# for key in results:\n",
    "#     formatted_results.append([key] + results[key])\n",
    "    \n",
    "write_data(\"results.csv\", formatted_results)"
   ]
  },
  {
   "cell_type": "markdown",
   "id": "stuck-field",
   "metadata": {},
   "source": [
    "## Generating a heatmap of locations"
   ]
  },
  {
   "cell_type": "code",
   "execution_count": 121,
   "id": "executed-joint",
   "metadata": {},
   "outputs": [],
   "source": [
    "def generate_heatmap(individuals) -> List[List[int]]:\n",
    "    heatmap_data = [ # TODO: pre-populate this list in a better way\n",
    "        [0, 0, 0, 0, 0, 0, 0, 0, 0, 0, 0, 0, 0, 0, 0, 0],\n",
    "        [0, 0, 0, 0, 0, 0, 0, 0, 0, 0, 0, 0, 0, 0, 0, 0],\n",
    "        [0, 0, 0, 0, 0, 0, 0, 0, 0, 0, 0, 0, 0, 0, 0, 0],\n",
    "        [0, 0, 0, 0, 0, 0, 0, 0, 0, 0, 0, 0, 0, 0, 0, 0],\n",
    "        [0, 0, 0, 0, 0, 0, 0, 0, 0, 0, 0, 0, 0, 0, 0, 0],\n",
    "        [0, 0, 0, 0, 0, 0, 0, 0, 0, 0, 0, 0, 0, 0, 0, 0],\n",
    "        [0, 0, 0, 0, 0, 0, 0, 0, 0, 0, 0, 0, 0, 0, 0, 0],\n",
    "        [0, 0, 0, 0, 0, 0, 0, 0, 0, 0, 0, 0, 0, 0, 0, 0],\n",
    "        [0, 0, 0, 0, 0, 0, 0, 0, 0, 0, 0, 0, 0, 0, 0, 0],\n",
    "        [0, 0, 0, 0, 0, 0, 0, 0, 0, 0, 0, 0, 0, 0, 0, 0],\n",
    "        [0, 0, 0, 0, 0, 0, 0, 0, 0, 0, 0, 0, 0, 0, 0, 0],\n",
    "        [0, 0, 0, 0, 0, 0, 0, 0, 0, 0, 0, 0, 0, 0, 0, 0],\n",
    "        [0, 0, 0, 0, 0, 0, 0, 0, 0, 0, 0, 0, 0, 0, 0, 0],\n",
    "        [0, 0, 0, 0, 0, 0, 0, 0, 0, 0, 0, 0, 0, 0, 0, 0],\n",
    "        [0, 0, 0, 0, 0, 0, 0, 0, 0, 0, 0, 0, 0, 0, 0, 0],\n",
    "        [0, 0, 0, 0, 0, 0, 0, 0, 0, 0, 0, 0, 0, 0, 0, 0]\n",
    "    ]\n",
    "\n",
    "    for individual in individuals:\n",
    "        coordinates = list(map(convert_to_point, individual[1:]))\n",
    "        for coordinate in coordinates:\n",
    "            heatmap_data[coordinate.y][coordinate.x] = heatmap_data[coordinate.y][coordinate.x] + 1\n",
    "\n",
    "    return heatmap_data\n",
    "    "
   ]
  },
  {
   "cell_type": "code",
   "execution_count": 178,
   "id": "planned-peripheral",
   "metadata": {},
   "outputs": [
    {
     "name": "stdout",
     "output_type": "stream",
     "text": [
      "Loaded a total of 104 rows, skipped 27 rows\n"
     ]
    },
    {
     "data": {
      "image/png": "[encoded data removed]",
      "text/plain": [
       "<Figure size 1152x864 with 2 Axes>"
      ]
     },
     "metadata": {},
     "output_type": "display_data"
    }
   ],
   "source": [
    "Z = [ # to be used to debug the generated heatmap\n",
    "    [1, 0, 0, 0, 0, 0, 0, 0, 0, 0, 0, 0, 0, 0, 0, 0],\n",
    "    [0, 0, 0, 0, 0, 0, 0, 0, 0, 0, 0, 0, 0, 0, 0, 0],\n",
    "    [1, 0, 0, 0, 0, 0, 0, 0, 0, 0, 0, 0, 0, 0, 0, 0],\n",
    "    [1, 0, 0, 0, 0, 0, 0, 0, 0, 0, 0, 0, 0, 0, 0, 0],\n",
    "    [1, 0, 0, 0, 0, 0, 0, 0, 0, 0, 0, 0, 0, 0, 0, 0],\n",
    "    [1, 0, 0, 0, 0, 0, 0, 0, 0, 0, 0, 0, 0, 0, 0, 0],\n",
    "    [1, 0, 0, 0, 0, 0, 0, 0, 0, 0, 0, 0, 0, 0, 0, 0],\n",
    "    [1, 0, 0, 0, 0, 0, 0, 0, 0, 0, 0, 0, 0, 0, 0, 0],\n",
    "    [1, 0, 0, 0, 0, 0, 0, 0, 0, 0, 0, 0, 0, 0, 0, 0],\n",
    "    [1, 0, 0, 0, 0, 0, 0, 0, 0, 0, 0, 0, 0, 0, 0, 0],\n",
    "    [1, 0, 0, 0, 0, 0, 0, 0, 0, 0, 0, 0, 0, 0, 0, 0],\n",
    "    [1, 0, 0, 0, 0, 0, 0, 0, 0, 0, 0, 0, 0, 0, 0, 0],\n",
    "    [1, 0, 0, 0, 0, 0, 0, 0, 0, 0, 0, 0, 0, 0, 0, 0],\n",
    "    [1, 0, 0, 0, 0, 0, 0, 0, 0, 0, 0, 0, 0, 0, 0, 0],\n",
    "    [1, 0, 0, 0, 0, 0, 0, 0, 0, 0, 0, 0, 0, 0, 0, 0],\n",
    "    [1, 0, 0, 0, 0, 0, 0, 0, 0, 0, 0, 0, 0, 0, 0, 0]\n",
    "]\n",
    "\n",
    "sns.set_theme()\n",
    "\n",
    "data = load_data(\"data-thesis-final.csv\")\n",
    "heatmap = generate_heatmap(data)\n",
    "\n",
    "fig, ax = plt.subplots(figsize=(16,12))  \n",
    "ax = sns.heatmap(heatmap, cmap=\"Blues\", ax=ax,  linewidths=.5)\n",
    "ax.xaxis.tick_top()\n",
    "\n",
    "fig.savefig(\"plot.png\", transparent=True)\n"
   ]
  }
 ],
 "metadata": {
  "kernelspec": {
   "display_name": "Python 3",
   "language": "python",
   "name": "python3"
  },
  "language_info": {
   "codemirror_mode": {
    "name": "ipython",
    "version": 3
   },
   "file_extension": ".py",
   "mimetype": "text/x-python",
   "name": "python",
   "nbconvert_exporter": "python",
   "pygments_lexer": "ipython3",
   "version": "3.8.2"
  }
 },
 "nbformat": 4,
 "nbformat_minor": 5
}
